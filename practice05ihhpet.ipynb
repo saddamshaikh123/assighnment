{
 "cells": [
  {
   "cell_type": "code",
   "execution_count": 1,
   "id": "e9cbc0d4",
   "metadata": {},
   "outputs": [
    {
     "name": "stdout",
     "output_type": "stream",
     "text": [
      "hi saddam\n"
     ]
    }
   ],
   "source": [
    "print('hi saddam')"
   ]
  },
  {
   "cell_type": "code",
   "execution_count": 5,
   "id": "00a13344",
   "metadata": {},
   "outputs": [],
   "source": [
    "#in python programming loop are used to repeat a block of code\n",
    "#if you want print message 100 times we use loop up to codition is true\n",
    "# if you want to do one task more than one time same code we use loop\n",
    "#1.for\n",
    "#2.while\n"
   ]
  },
  {
   "cell_type": "code",
   "execution_count": 4,
   "id": "fcb076fa",
   "metadata": {},
   "outputs": [
    {
     "name": "stdout",
     "output_type": "stream",
     "text": [
      "hi saddam\n",
      "hi saddam\n",
      "hi saddam\n",
      "hi saddam\n",
      "hi saddam\n",
      "hi saddam\n",
      "hi saddam\n",
      "hi saddam\n",
      "hi saddam\n",
      "hi saddam\n",
      "hi saddam\n",
      "hi saddam\n",
      "hi saddam\n",
      "hi saddam\n",
      "hi saddam\n",
      "hi saddam\n",
      "hi saddam\n",
      "hi saddam\n",
      "hi saddam\n",
      "hi saddam\n",
      "hi saddam\n",
      "hi saddam\n",
      "hi saddam\n",
      "hi saddam\n",
      "hi saddam\n",
      "hi saddam\n",
      "hi saddam\n",
      "hi saddam\n",
      "hi saddam\n",
      "hi saddam\n",
      "hi saddam\n",
      "hi saddam\n",
      "hi saddam\n",
      "hi saddam\n",
      "hi saddam\n",
      "hi saddam\n",
      "hi saddam\n",
      "hi saddam\n",
      "hi saddam\n",
      "hi saddam\n",
      "hi saddam\n",
      "hi saddam\n",
      "hi saddam\n",
      "hi saddam\n",
      "hi saddam\n",
      "hi saddam\n",
      "hi saddam\n",
      "hi saddam\n",
      "hi saddam\n",
      "hi saddam\n",
      "hi saddam\n",
      "hi saddam\n",
      "hi saddam\n",
      "hi saddam\n",
      "hi saddam\n",
      "hi saddam\n",
      "hi saddam\n",
      "hi saddam\n",
      "hi saddam\n",
      "hi saddam\n",
      "hi saddam\n",
      "hi saddam\n",
      "hi saddam\n",
      "hi saddam\n",
      "hi saddam\n",
      "hi saddam\n",
      "hi saddam\n",
      "hi saddam\n",
      "hi saddam\n",
      "hi saddam\n",
      "hi saddam\n",
      "hi saddam\n",
      "hi saddam\n",
      "hi saddam\n",
      "hi saddam\n",
      "hi saddam\n",
      "hi saddam\n",
      "hi saddam\n",
      "hi saddam\n",
      "hi saddam\n",
      "hi saddam\n",
      "hi saddam\n",
      "hi saddam\n",
      "hi saddam\n",
      "hi saddam\n",
      "hi saddam\n",
      "hi saddam\n",
      "hi saddam\n",
      "hi saddam\n",
      "hi saddam\n",
      "hi saddam\n",
      "hi saddam\n",
      "hi saddam\n",
      "hi saddam\n",
      "hi saddam\n",
      "hi saddam\n",
      "hi saddam\n",
      "hi saddam\n",
      "hi saddam\n",
      "hi saddam\n"
     ]
    }
   ],
   "source": [
    "for i in range(1,101):\n",
    "    print('hi saddam')"
   ]
  },
  {
   "cell_type": "code",
   "execution_count": 10,
   "id": "384204cb",
   "metadata": {},
   "outputs": [
    {
     "name": "stdout",
     "output_type": "stream",
     "text": [
      "hi saddam\n",
      "hi saddam\n",
      "hi saddam\n"
     ]
    }
   ],
   "source": [
    "i=1\n",
    "while i<=3:\n",
    "    print('hi saddam')\n",
    "    i=i+1"
   ]
  },
  {
   "cell_type": "code",
   "execution_count": 11,
   "id": "a5d29e30",
   "metadata": {},
   "outputs": [],
   "source": [
    "#1.while loop\n",
    "# while loop are used to execute a block of code up to condition is satisfied and\n",
    "# when the condition false loop is not executed"
   ]
  },
  {
   "cell_type": "code",
   "execution_count": 12,
   "id": "115459cd",
   "metadata": {},
   "outputs": [],
   "source": [
    "#program to display number from 1 to 5"
   ]
  },
  {
   "cell_type": "code",
   "execution_count": 13,
   "id": "6f3eaa87",
   "metadata": {},
   "outputs": [
    {
     "name": "stdout",
     "output_type": "stream",
     "text": [
      "1\n",
      "2\n",
      "3\n",
      "4\n",
      "5\n"
     ]
    }
   ],
   "source": [
    "i=1\n",
    "while i<=5:\n",
    "    print(i)\n",
    "    i=i+1"
   ]
  },
  {
   "cell_type": "code",
   "execution_count": 16,
   "id": "caa2f9be",
   "metadata": {},
   "outputs": [
    {
     "name": "stdout",
     "output_type": "stream",
     "text": [
      "5\n",
      "4\n",
      "3\n",
      "2\n",
      "1\n"
     ]
    }
   ],
   "source": [
    "i=9\n",
    "while i>=5:\n",
    "    print(i-4)\n",
    "    i=i-1"
   ]
  },
  {
   "cell_type": "code",
   "execution_count": 17,
   "id": "b0b004d1",
   "metadata": {},
   "outputs": [
    {
     "name": "stdout",
     "output_type": "stream",
     "text": [
      "1\n",
      "2\n",
      "3\n",
      "4\n",
      "5\n"
     ]
    }
   ],
   "source": [
    "for i in range(1,6):\n",
    "    print(i)"
   ]
  },
  {
   "cell_type": "code",
   "execution_count": 21,
   "id": "874e1518",
   "metadata": {},
   "outputs": [
    {
     "name": "stdout",
     "output_type": "stream",
     "text": [
      "2 * 1 == 2\n",
      "2 * 2 == 4\n",
      "2 * 3 == 6\n",
      "2 * 4 == 8\n",
      "2 * 5 == 10\n",
      "2 * 6 == 12\n",
      "2 * 7 == 14\n",
      "2 * 8 == 16\n",
      "2 * 9 == 18\n",
      "2 * 10 == 20\n"
     ]
    }
   ],
   "source": [
    "i=1\n",
    "while i<=10:\n",
    "    print('2 *', i ,'==',2*i)\n",
    "    i=i+1"
   ]
  },
  {
   "cell_type": "code",
   "execution_count": 23,
   "id": "a79c14a1",
   "metadata": {},
   "outputs": [
    {
     "name": "stdout",
     "output_type": "stream",
     "text": [
      "8\n",
      "16\n",
      "24\n",
      "32\n",
      "40\n",
      "48\n",
      "56\n",
      "64\n",
      "72\n",
      "80\n"
     ]
    }
   ],
   "source": [
    "i=1\n",
    "while i <=10:\n",
    "    print(8*i)\n",
    "    i=i+1"
   ]
  },
  {
   "cell_type": "code",
   "execution_count": 24,
   "id": "b15ae5a2",
   "metadata": {},
   "outputs": [
    {
     "name": "stdout",
     "output_type": "stream",
     "text": [
      "8 * 1 == 8\n",
      "8 * 2 == 16\n",
      "8 * 3 == 24\n",
      "8 * 4 == 32\n",
      "8 * 5 == 40\n",
      "8 * 6 == 48\n",
      "8 * 7 == 56\n",
      "8 * 8 == 64\n",
      "8 * 9 == 72\n",
      "8 * 10 == 80\n"
     ]
    }
   ],
   "source": [
    "for i in range (1,11):\n",
    "    print('8 *',i,'==',8*i)"
   ]
  },
  {
   "cell_type": "code",
   "execution_count": 25,
   "id": "b3301f95",
   "metadata": {},
   "outputs": [],
   "source": [
    "#while is to be work up to infinite loop"
   ]
  },
  {
   "cell_type": "code",
   "execution_count": 26,
   "id": "bd6e0cb8",
   "metadata": {},
   "outputs": [],
   "source": [
    "age=10\n",
    "while age>18:\n",
    "    print('hi') #infinite time we get result \n",
    "                # age =10 which is always greater than 18 conditon is not false"
   ]
  },
  {
   "cell_type": "code",
   "execution_count": 28,
   "id": "d4c62a79",
   "metadata": {},
   "outputs": [
    {
     "name": "stdout",
     "output_type": "stream",
     "text": [
      "hi\n",
      "hi\n",
      "hi\n",
      "hi\n",
      "hi\n",
      "hi\n",
      "hi\n",
      "hi\n",
      "hi\n",
      "hi\n",
      "hi\n",
      "hi\n",
      "hi\n",
      "hi\n",
      "hi\n",
      "hi\n",
      "hi\n",
      "hi\n",
      "hi\n",
      "hi\n",
      "hi\n",
      "hi\n",
      "hi\n",
      "hi\n",
      "hi\n"
     ]
    }
   ],
   "source": [
    "i=0\n",
    "while i<25:\n",
    "    print('hi')#print the message up to 25 time \n",
    "    i=i+1"
   ]
  },
  {
   "cell_type": "code",
   "execution_count": 29,
   "id": "6e176833",
   "metadata": {},
   "outputs": [],
   "source": [
    "#else statementt in while loop i.e if condition is not true code of these get executed\n"
   ]
  },
  {
   "cell_type": "code",
   "execution_count": 30,
   "id": "b801f9ad",
   "metadata": {},
   "outputs": [
    {
     "name": "stdout",
     "output_type": "stream",
     "text": [
      "hi\n",
      "hi\n",
      "hi\n",
      "hi\n",
      "condion is false i.e 5!<5\n"
     ]
    }
   ],
   "source": [
    "i=1\n",
    "while i<5:\n",
    "    print('hi')\n",
    "    i=i+1\n",
    "else:\n",
    "    print('condion is false i.e 5!<5')"
   ]
  },
  {
   "cell_type": "code",
   "execution_count": 32,
   "id": "69165814",
   "metadata": {},
   "outputs": [
    {
     "name": "stdout",
     "output_type": "stream",
     "text": [
      "a:5\n",
      "b:5\n",
      "abcd\n"
     ]
    }
   ],
   "source": [
    "a=int(input('a:'))\n",
    "b=int(input('b:'))\n",
    "if a>10: #condition is true \n",
    "    if b==5:\n",
    "        print('hi')\n",
    "    else:\n",
    "        print('bye')\n",
    "else:\n",
    "    print('abcd')"
   ]
  },
  {
   "cell_type": "code",
   "execution_count": 33,
   "id": "00d14b21",
   "metadata": {},
   "outputs": [],
   "source": [
    "# for loop"
   ]
  },
  {
   "cell_type": "code",
   "execution_count": 34,
   "id": "7f7890b4",
   "metadata": {},
   "outputs": [],
   "source": [
    "# in a pytthon for loop is used to run a block of code for a certain number of times \n",
    "# you can use for loop for list ,tuple,string"
   ]
  },
  {
   "cell_type": "code",
   "execution_count": 37,
   "id": "2e9e1fd8",
   "metadata": {},
   "outputs": [
    {
     "name": "stdout",
     "output_type": "stream",
     "text": [
      "a\n",
      "b\n",
      "c\n",
      "d\n"
     ]
    }
   ],
   "source": [
    "\n",
    "a='abcd'\n",
    "for i in a:\n",
    "    print(i)"
   ]
  },
  {
   "cell_type": "code",
   "execution_count": 40,
   "id": "d861efac",
   "metadata": {},
   "outputs": [
    {
     "name": "stdout",
     "output_type": "stream",
     "text": [
      "2774657636032\n",
      "[1, 2, 3, 4, 5, 6, 7, 8, 9, 10]\n",
      "<class 'list'>\n",
      "2774657636032\n"
     ]
    }
   ],
   "source": [
    "a=[]\n",
    "print(id(a))\n",
    "for i in range (1,11):\n",
    "    a.append(i)\n",
    "print(a)\n",
    "print(type(a))\n",
    "print(id(a))"
   ]
  },
  {
   "cell_type": "code",
   "execution_count": 43,
   "id": "9d7d7793",
   "metadata": {},
   "outputs": [
    {
     "name": "stdout",
     "output_type": "stream",
     "text": [
      "Element present in list a\n",
      "a\n",
      "<class 'str'>\n",
      "b\n",
      "<class 'str'>\n",
      "c\n",
      "<class 'str'>\n"
     ]
    }
   ],
   "source": [
    "a=['a','b','c']\n",
    "print('Element present in list a')\n",
    "for i in a:\n",
    "    print(i)\n",
    "    print(type(i))"
   ]
  },
  {
   "cell_type": "code",
   "execution_count": 44,
   "id": "d45b1a02",
   "metadata": {},
   "outputs": [
    {
     "name": "stdout",
     "output_type": "stream",
     "text": [
      "1 <class 'int'>\n",
      "2 <class 'int'>\n",
      "3 <class 'int'>\n"
     ]
    }
   ],
   "source": [
    "a=[1,2,3]\n",
    "for i in a:\n",
    "    print(i,type(i))\n",
    "    "
   ]
  },
  {
   "cell_type": "code",
   "execution_count": 46,
   "id": "da8f31ef",
   "metadata": {},
   "outputs": [
    {
     "name": "stdout",
     "output_type": "stream",
     "text": [
      "print the each charcter of abcd\n",
      "a\n",
      "b\n",
      "c\n",
      "d\n"
     ]
    }
   ],
   "source": [
    "#string\n",
    "a='abcd'\n",
    "print('print the each charcter of abcd')\n",
    "for i in a:\n",
    "    print(i)"
   ]
  },
  {
   "cell_type": "code",
   "execution_count": 50,
   "id": "9fe1e0c2",
   "metadata": {},
   "outputs": [
    {
     "name": "stdout",
     "output_type": "stream",
     "text": [
      "1\n",
      "2\n",
      "3\n",
      "True\n",
      "abc,13.5\n"
     ]
    }
   ],
   "source": [
    "a=(1,2,3,True,'abc,13.5')\n",
    "for i in a:\n",
    "    print(i)"
   ]
  },
  {
   "cell_type": "code",
   "execution_count": 53,
   "id": "d2f76580",
   "metadata": {},
   "outputs": [
    {
     "name": "stdout",
     "output_type": "stream",
     "text": [
      "1\n",
      "2\n",
      "3\n",
      "4\n",
      "5\n",
      "6\n",
      "7\n",
      "8\n",
      "9\n",
      "10\n",
      "11\n",
      "12\n",
      "13\n",
      "14\n",
      "15\n",
      "16\n",
      "17\n",
      "18\n",
      "19\n",
      "20\n",
      "21\n",
      "22\n",
      "23\n",
      "24\n"
     ]
    }
   ],
   "source": [
    "for i in range(1,25): # 25 is not considered\n",
    "    print(i)"
   ]
  },
  {
   "cell_type": "code",
   "execution_count": null,
   "id": "b7a718f2",
   "metadata": {},
   "outputs": [],
   "source": []
  }
 ],
 "metadata": {
  "kernelspec": {
   "display_name": "Python 3 (ipykernel)",
   "language": "python",
   "name": "python3"
  },
  "language_info": {
   "codemirror_mode": {
    "name": "ipython",
    "version": 3
   },
   "file_extension": ".py",
   "mimetype": "text/x-python",
   "name": "python",
   "nbconvert_exporter": "python",
   "pygments_lexer": "ipython3",
   "version": "3.10.3"
  }
 },
 "nbformat": 4,
 "nbformat_minor": 5
}
